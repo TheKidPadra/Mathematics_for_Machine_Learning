{
 "cells": [
  {
   "cell_type": "markdown",
   "metadata": {},
   "source": [
    "### My first week notes and exercises from the Linear algebra module of the course: Mathematics for Machine Learning, avaliable at Coursera.\n",
    "### Note that only a few exercises are avaliable to help students understand some of the algebra of the course, full disclosure of all exercises isn't possible due to coursera police. Contact me if you have any questions, i will be glad to help you process of learning!"
   ]
  },
  {
   "cell_type": "markdown",
   "metadata": {},
   "source": [
    "### **Solving some simultaneous equations**"
   ]
  },
  {
   "cell_type": "markdown",
   "metadata": {},
   "source": [
    "### 1 - \n",
    "In this quiz you'll be reminded of how to solve linear simultaneous equations as a way to practice some basic linear algebra. Some of the ideas presented here will be relevant later in the course. Solving simultaneous equations is the process of finding the values of the variables (here x and y) that satisfy the system of equations. Let's start with the simplest type of simultaneous equation, where we already know all but one of the variables: \n",
    "\n",
    "3x - y = 2\n",
    "\n",
    "x = 4"
   ]
  },
  {
   "cell_type": "markdown",
   "metadata": {},
   "source": [
    "> Substituting x = 4 in first equation gives us: \n",
    "\n",
    "> 3(4) - y = 2 \n",
    "\n",
    "> 12 - y = 2 \n",
    "\n",
    "> 12 -2 = y\n",
    "\n",
    "> y = 10\n"
   ]
  },
  {
   "cell_type": "markdown",
   "metadata": {},
   "source": [
    "### 2- \n",
    "The first goal when solving simple simultaneous equations should be to isolate one of the variables. For example, try taking the second equation away from the first to solve the following pair of equations:\n",
    "\n",
    "3x - 2y = 7\n",
    "\n",
    "2x - 2y = 2\n",
    "\n",
    "What value did you find for x? Now substitute x into one of the equations to find y, and select the correct pair below:"
   ]
  },
  {
   "cell_type": "markdown",
   "metadata": {},
   "source": [
    "> Subtracting equation 2 from equation 1:\n",
    "\n",
    "> [3x - 2y = 7] - [2x - 2y = 2]\n",
    "\n",
    "> 1x + 0y = 5\n",
    "\n",
    "> x = 5\n",
    "\n",
    "> Using x = 5 to solve second equation and find y:\n",
    "\n",
    "> 2(5) - 2y = 2\n",
    "\n",
    "> 10 - 2y = 2\n",
    "\n",
    "> 10 - 2 = 2y\n",
    "\n",
    ">y = 8/2 = 4"
   ]
  },
  {
   "cell_type": "markdown",
   "metadata": {},
   "source": [
    "### 3 - \n",
    "This method is called elimination, and you can use it even when the coefficients, the numbers in front of x and y, aren't the same.\n",
    "\n",
    "For example, to solve the following equations try multiplying both sides of the first equation by 2, then solve using the same method as the last question.\n",
    "\n",
    "3x - 2y = 4\n",
    "\n",
    "6x + 3y = 15"
   ]
  },
  {
   "cell_type": "markdown",
   "metadata": {},
   "source": [
    "> Multiplying first equation by 2 gives us:\n",
    "\n",
    "> 6x - 4y = 8\n",
    "\n",
    "> Subtracting equation 2 from 1:\n",
    "\n",
    "> [6x - 4y = 8] - [6x + 3y = 15]\n",
    "\n",
    "> -7y = - 7\n",
    "\n",
    "> y = 1\n",
    "\n",
    "> Using y = 1 to solve first equation:\n",
    "\n",
    "> 3x - 2(1) = 4\n",
    "\n",
    "> 3x = 6\n",
    "\n",
    "> x = 2"
   ]
  },
  {
   "cell_type": "markdown",
   "metadata": {},
   "source": [
    "### 5 -\n",
    "Systems of simultaneous equations can have more than two unknown variables. Below there is a system with three; x, y and z. First try to find one of the variables by elimination or substitution, which will lead to two equations and two unknown variables. Continue the process to find all of the variables.\n",
    "\n",
    "Which values of x, y and z solve the following equations?\n",
    "\n",
    "3x - 2y + z = 7\n",
    "\n",
    "x + y + z = 2\n",
    "\n",
    "3x - 2y - z = 3\n",
    "\n",
    "Before you move on you might like to think about how many equations \n",
    "you would need to uniquely determine four, five, or more variables. Are there are \n",
    "any other rules for how the equations have to be related? In week two of this course you will learn\n",
    " about linear independence, which is very closely related to this."
   ]
  },
  {
   "cell_type": "markdown",
   "metadata": {},
   "source": [
    "> Finding a expression for x based on equation two:\n",
    "\n",
    "> x = 2 - y - z\n",
    "\n",
    "> Substituting x expression in equation one:\n",
    "\n",
    "> 3(2 - y - z) - 2y + z = 7\n",
    "\n",
    "> 6 - 3y - 3z - 2y + z = 7\n",
    "\n",
    "> -5y -2z = 1\n",
    "\n",
    "> substituing x expression in equation three:\n",
    "\n",
    "> 3(2 - y - z) - 2y - z = 3\n",
    "\n",
    "> 6 - 3y - 3z - 2y - z = 3\n",
    "\n",
    "> -5y - 4z = - 3\n",
    "\n",
    "> subtracting equation three from one to find z value:\n",
    "\n",
    "> [-5y -2z = 1] - [-5y - 4z = -3]\n",
    "\n",
    "> 2z = 4\n",
    "\n",
    "> z = 2\n",
    "\n",
    "> substituting z value in equations one and two:\n",
    "\n",
    "> 3x - 2y = 5\n",
    "\n",
    "> x + y = 0\n",
    "\n",
    "> We can easily solve here with x = -y, but for the sake of the exercise:\n",
    "\n",
    "> multiply equation two by -2 and subtract from equation one:\n",
    "\n",
    "> [3x - 2y = 5] - [-2x - 2y = 0]\n",
    "\n",
    "> 5x = 5 \n",
    "\n",
    "> x = 1\n",
    "\n",
    "> x = 1 and y = -1"
   ]
  },
  {
   "cell_type": "markdown",
   "metadata": {},
   "source": []
  }
 ],
 "metadata": {
  "kernelspec": {
   "display_name": "Python 3",
   "language": "python",
   "name": "python3"
  },
  "language_info": {
   "codemirror_mode": {
    "name": "ipython",
    "version": 3
   },
   "file_extension": ".py",
   "mimetype": "text/x-python",
   "name": "python",
   "nbconvert_exporter": "python",
   "pygments_lexer": "ipython3",
   "version": "3.7.4"
  }
 },
 "nbformat": 4,
 "nbformat_minor": 4
}
